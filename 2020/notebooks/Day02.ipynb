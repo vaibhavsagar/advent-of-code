{
 "cells": [
  {
   "cell_type": "code",
   "execution_count": 1,
   "metadata": {},
   "outputs": [],
   "source": [
    "import AdventOfCode"
   ]
  },
  {
   "cell_type": "code",
   "execution_count": 2,
   "metadata": {},
   "outputs": [],
   "source": [
    "input <- dayLines 2"
   ]
  },
  {
   "cell_type": "code",
   "execution_count": 3,
   "metadata": {},
   "outputs": [],
   "source": [
    "import qualified Data.Attoparsec.ByteString.Char8 as A"
   ]
  },
  {
   "cell_type": "code",
   "execution_count": 4,
   "metadata": {},
   "outputs": [
    {
     "data": {
      "text/plain": [
       "\"9-10 b: bbktbbbxhfbpb\""
      ]
     },
     "metadata": {},
     "output_type": "display_data"
    }
   ],
   "source": [
    "head input"
   ]
  },
  {
   "cell_type": "code",
   "execution_count": 5,
   "metadata": {},
   "outputs": [],
   "source": [
    "import Data.ByteString.Char8 (unpack)"
   ]
  },
  {
   "cell_type": "code",
   "execution_count": 6,
   "metadata": {},
   "outputs": [],
   "source": [
    "data Password = Password\n",
    "    { minIndex :: Int\n",
    "    , maxIndex :: Int\n",
    "    , character :: Char\n",
    "    , string :: String\n",
    "    } deriving (Eq, Show)\n",
    "\n",
    "satisfiesPolicy :: Password -> Bool\n",
    "satisfiesPolicy (Password mn mx c str) = let\n",
    "    len = length $ filter (==c) str\n",
    "    in mn <= len && len <= mx\n",
    "\n",
    "parseLine = do\n",
    "    mn <- A.decimal\n",
    "    _ <- A.char '-'\n",
    "    mx <- A.decimal\n",
    "    _ <- A.space\n",
    "    c <- A.anyChar\n",
    "    _ <- A.char ':'\n",
    "    _ <- A.space\n",
    "    string <- unpack <$> A.takeByteString\n",
    "    pure $ Password mn mx c string"
   ]
  },
  {
   "cell_type": "code",
   "execution_count": 7,
   "metadata": {},
   "outputs": [
    {
     "data": {
      "text/plain": [
       "643"
      ]
     },
     "metadata": {},
     "output_type": "display_data"
    }
   ],
   "source": [
    "length $ filter id $ map (satisfiesPolicy . parsed parseLine) input"
   ]
  },
  {
   "cell_type": "code",
   "execution_count": 8,
   "metadata": {},
   "outputs": [],
   "source": [
    "satisfiesPolicy' :: Password -> Bool\n",
    "satisfiesPolicy' (Password mn mx c str) = let\n",
    "    minMatch = str !! (mn-1) == c\n",
    "    maxMatch = str !! (mx-1) == c\n",
    "    in (minMatch || maxMatch) && not (minMatch && maxMatch)\n"
   ]
  },
  {
   "cell_type": "code",
   "execution_count": 9,
   "metadata": {},
   "outputs": [
    {
     "data": {
      "text/plain": [
       "388"
      ]
     },
     "metadata": {},
     "output_type": "display_data"
    }
   ],
   "source": [
    "length $ filter id $ map (satisfiesPolicy' . parsed parseLine) input"
   ]
  }
 ],
 "metadata": {
  "kernelspec": {
   "display_name": "Haskell",
   "language": "haskell",
   "name": "haskell"
  },
  "language_info": {
   "codemirror_mode": "ihaskell",
   "file_extension": ".hs",
   "mimetype": "text/x-haskell",
   "name": "haskell",
   "pygments_lexer": "Haskell",
   "version": "8.8.4"
  }
 },
 "nbformat": 4,
 "nbformat_minor": 4
}
