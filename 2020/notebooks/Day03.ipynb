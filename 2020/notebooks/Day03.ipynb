{
 "cells": [
  {
   "cell_type": "code",
   "execution_count": 1,
   "metadata": {},
   "outputs": [],
   "source": [
    "import AdventOfCode\n",
    "import qualified Data.Vector as V"
   ]
  },
  {
   "cell_type": "code",
   "execution_count": 2,
   "metadata": {},
   "outputs": [],
   "source": [
    "raw <- dayLinesString 3"
   ]
  },
  {
   "cell_type": "code",
   "execution_count": 3,
   "metadata": {},
   "outputs": [],
   "source": [
    "vec = V.fromList $ map V.fromList raw"
   ]
  },
  {
   "cell_type": "code",
   "execution_count": 4,
   "metadata": {},
   "outputs": [],
   "source": [
    "countTrees :: V.Vector (V.Vector Char) -> (Int, Int) -> (Int, Int) -> Int -> Int\n",
    "countTrees v (x,y) (r,d) count\n",
    "    | y >= length v = count\n",
    "    | otherwise = let\n",
    "        current = (v V.! y) V.! x\n",
    "        isTree = if current == '#' then 1 else 0\n",
    "        count' = count + isTree\n",
    "        l = length $ V.head v\n",
    "        in countTrees v ((x+r) `mod` l, y+d) (r,d) count'"
   ]
  },
  {
   "cell_type": "code",
   "execution_count": 5,
   "metadata": {},
   "outputs": [
    {
     "data": {
      "text/plain": [
       "232"
      ]
     },
     "metadata": {},
     "output_type": "display_data"
    }
   ],
   "source": [
    "countTrees vec (0,0) (3,1) 0"
   ]
  },
  {
   "cell_type": "code",
   "execution_count": 6,
   "metadata": {},
   "outputs": [
    {
     "data": {
      "text/plain": [
       "3952291680"
      ]
     },
     "metadata": {},
     "output_type": "display_data"
    }
   ],
   "source": [
    "product $ map (\\slope -> countTrees vec (0,0) slope 0) [(1,1), (3,1), (5,1), (7,1), (1,2)]"
   ]
  }
 ],
 "metadata": {
  "kernelspec": {
   "display_name": "Haskell",
   "language": "haskell",
   "name": "haskell"
  },
  "language_info": {
   "codemirror_mode": "ihaskell",
   "file_extension": ".hs",
   "mimetype": "text/x-haskell",
   "name": "haskell",
   "pygments_lexer": "Haskell",
   "version": "8.8.4"
  }
 },
 "nbformat": 4,
 "nbformat_minor": 4
}
