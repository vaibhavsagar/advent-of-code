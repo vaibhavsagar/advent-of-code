{
 "cells": [
  {
   "cell_type": "code",
   "execution_count": 1,
   "metadata": {},
   "outputs": [],
   "source": [
    "import AdventOfCode\n",
    "import Data.List.Split\n",
    "import qualified Data.Attoparsec.Char8 as A"
   ]
  },
  {
   "cell_type": "code",
   "execution_count": 2,
   "metadata": {},
   "outputs": [
    {
     "data": {
      "text/plain": []
     },
     "metadata": {},
     "output_type": "display_data"
    }
   ],
   "source": [
    "raw <- splitOn \"\\n\\n\" <$> dayString 4"
   ]
  },
  {
   "cell_type": "code",
   "execution_count": 3,
   "metadata": {},
   "outputs": [],
   "source": [
    "import Data.List (sort, find)\n",
    "import Data.Maybe (isJust)\n",
    "\n",
    "processed = map (sort . words . unwords . lines) raw"
   ]
  },
  {
   "cell_type": "code",
   "execution_count": 4,
   "metadata": {},
   "outputs": [],
   "source": [
    "import qualified Data.Set as Set"
   ]
  },
  {
   "cell_type": "code",
   "execution_count": 5,
   "metadata": {},
   "outputs": [
    {
     "data": {
      "text/plain": [
       "254"
      ]
     },
     "metadata": {},
     "output_type": "display_data"
    }
   ],
   "source": [
    "attrsOnly = map (Set.fromList . map (take 3)) processed\n",
    "\n",
    "allRequired attrs = let\n",
    "    required = Set.fromList    \n",
    "        [ \"byr\"\n",
    "        , \"iyr\"\n",
    "        , \"eyr\"\n",
    "        , \"hgt\"\n",
    "        , \"hcl\"\n",
    "        , \"ecl\"\n",
    "        , \"pid\"\n",
    "        ]\n",
    "    in Set.intersection required attrs == required\n",
    "length $ filter allRequired attrsOnly"
   ]
  },
  {
   "cell_type": "code",
   "execution_count": 6,
   "metadata": {},
   "outputs": [],
   "source": [
    "zipped = zip attrsOnly processed\n",
    "valid = map snd $ filter (allRequired . fst) zipped"
   ]
  },
  {
   "cell_type": "code",
   "execution_count": 7,
   "metadata": {},
   "outputs": [],
   "source": [
    "import qualified Data.ByteString.Char8 as BS\n",
    "\n",
    "unvalidated = map (map BS.pack) valid"
   ]
  },
  {
   "cell_type": "code",
   "execution_count": 8,
   "metadata": {},
   "outputs": [],
   "source": [
    "{-# LANGUAGE OverloadedStrings #-}\n",
    "\n",
    "data Passport = Passport\n",
    "    { byr\n",
    "    , iyr\n",
    "    , eyr\n",
    "    , hgt\n",
    "    , hcl\n",
    "    , ecl\n",
    "    , pid :: String\n",
    "    } deriving (Eq, Show)\n",
    "\n",
    "parsePassport :: [String] -> Passport\n",
    "parsePassport attrs = Passport\n",
    "    (maybe \"\" (drop 4) $ find (\\f -> take 4 f == \"byr:\") attrs)\n",
    "    (maybe \"\" (drop 4) $ find (\\f -> take 4 f == \"iyr:\") attrs)\n",
    "    (maybe \"\" (drop 4) $ find (\\f -> take 4 f == \"eyr:\") attrs)\n",
    "    (maybe \"\" (drop 4) $ find (\\f -> take 4 f == \"hgt:\") attrs)\n",
    "    (maybe \"\" (drop 4) $ find (\\f -> take 4 f == \"hcl:\") attrs)\n",
    "    (maybe \"\" (drop 4) $ find (\\f -> take 4 f == \"ecl:\") attrs)\n",
    "    (maybe \"\" (drop 4) $ find (\\f -> take 4 f == \"pid:\") attrs)"
   ]
  },
  {
   "cell_type": "code",
   "execution_count": 9,
   "metadata": {},
   "outputs": [],
   "source": [
    "passports = map parsePassport valid"
   ]
  },
  {
   "cell_type": "code",
   "execution_count": 10,
   "metadata": {},
   "outputs": [
    {
     "data": {
      "text/html": [
       "<style>/* Styles used for the Hoogle display in the pager */\n",
       ".hoogle-doc {\n",
       "display: block;\n",
       "padding-bottom: 1.3em;\n",
       "padding-left: 0.4em;\n",
       "}\n",
       ".hoogle-code {\n",
       "display: block;\n",
       "font-family: monospace;\n",
       "white-space: pre;\n",
       "}\n",
       ".hoogle-text {\n",
       "display: block;\n",
       "}\n",
       ".hoogle-name {\n",
       "color: green;\n",
       "font-weight: bold;\n",
       "}\n",
       ".hoogle-head {\n",
       "font-weight: bold;\n",
       "}\n",
       ".hoogle-sub {\n",
       "display: block;\n",
       "margin-left: 0.4em;\n",
       "}\n",
       ".hoogle-package {\n",
       "font-weight: bold;\n",
       "font-style: italic;\n",
       "}\n",
       ".hoogle-module {\n",
       "font-weight: bold;\n",
       "}\n",
       ".hoogle-class {\n",
       "font-weight: bold;\n",
       "}\n",
       ".get-type {\n",
       "color: green;\n",
       "font-weight: bold;\n",
       "font-family: monospace;\n",
       "display: block;\n",
       "white-space: pre-wrap;\n",
       "}\n",
       ".show-type {\n",
       "color: green;\n",
       "font-weight: bold;\n",
       "font-family: monospace;\n",
       "margin-left: 1em;\n",
       "}\n",
       ".mono {\n",
       "font-family: monospace;\n",
       "display: block;\n",
       "}\n",
       ".err-msg {\n",
       "color: red;\n",
       "font-style: italic;\n",
       "font-family: monospace;\n",
       "white-space: pre;\n",
       "display: block;\n",
       "}\n",
       "#unshowable {\n",
       "color: red;\n",
       "font-weight: bold;\n",
       "}\n",
       ".err-msg.in.collapse {\n",
       "padding-top: 0.7em;\n",
       "}\n",
       ".highlight-code {\n",
       "white-space: pre;\n",
       "font-family: monospace;\n",
       "}\n",
       ".suggestion-warning { \n",
       "font-weight: bold;\n",
       "color: rgb(200, 130, 0);\n",
       "}\n",
       ".suggestion-error { \n",
       "font-weight: bold;\n",
       "color: red;\n",
       "}\n",
       ".suggestion-name {\n",
       "font-weight: bold;\n",
       "}\n",
       "</style><div class=\"suggestion-name\" style=\"clear:both;\">Use fromMaybe</div><div class=\"suggestion-row\" style=\"float: left;\"><div class=\"suggestion-warning\">Found:</div><div class=\"highlight-code\" id=\"haskell\">maybe 0 id</div></div><div class=\"suggestion-row\" style=\"float: left;\"><div class=\"suggestion-warning\">Why Not:</div><div class=\"highlight-code\" id=\"haskell\">Data.Maybe.fromMaybe 0</div></div><div class=\"suggestion-name\" style=\"clear:both;\">Use fromMaybe</div><div class=\"suggestion-row\" style=\"float: left;\"><div class=\"suggestion-warning\">Found:</div><div class=\"highlight-code\" id=\"haskell\">maybe 0 id</div></div><div class=\"suggestion-row\" style=\"float: left;\"><div class=\"suggestion-warning\">Why Not:</div><div class=\"highlight-code\" id=\"haskell\">Data.Maybe.fromMaybe 0</div></div><div class=\"suggestion-name\" style=\"clear:both;\">Use fromMaybe</div><div class=\"suggestion-row\" style=\"float: left;\"><div class=\"suggestion-warning\">Found:</div><div class=\"highlight-code\" id=\"haskell\">maybe 0 id</div></div><div class=\"suggestion-row\" style=\"float: left;\"><div class=\"suggestion-warning\">Why Not:</div><div class=\"highlight-code\" id=\"haskell\">Data.Maybe.fromMaybe 0</div></div><div class=\"suggestion-name\" style=\"clear:both;\">Use fromMaybe</div><div class=\"suggestion-row\" style=\"float: left;\"><div class=\"suggestion-warning\">Found:</div><div class=\"highlight-code\" id=\"haskell\">maybe 0 id</div></div><div class=\"suggestion-row\" style=\"float: left;\"><div class=\"suggestion-warning\">Why Not:</div><div class=\"highlight-code\" id=\"haskell\">Data.Maybe.fromMaybe 0</div></div>"
      ],
      "text/plain": [
       "Line 10: Use fromMaybe\n",
       "Found:\n",
       "maybe 0 id\n",
       "Why not:\n",
       "Data.Maybe.fromMaybe 0Line 16: Use fromMaybe\n",
       "Found:\n",
       "maybe 0 id\n",
       "Why not:\n",
       "Data.Maybe.fromMaybe 0Line 22: Use fromMaybe\n",
       "Found:\n",
       "maybe 0 id\n",
       "Why not:\n",
       "Data.Maybe.fromMaybe 0Line 28: Use fromMaybe\n",
       "Found:\n",
       "maybe 0 id\n",
       "Why not:\n",
       "Data.Maybe.fromMaybe 0"
      ]
     },
     "metadata": {},
     "output_type": "display_data"
    }
   ],
   "source": [
    "import qualified Text.ParserCombinators.ReadP as P\n",
    "import Text.Read (readMaybe)\n",
    "\n",
    "hexDigit = P.choice $ map P.char $ ['0'..'9'] <> ['a'..'f']\n",
    "digit = P.choice $ map P.char ['0'..'9']\n",
    "failed = pure False\n",
    "\n",
    "validateByr = do\n",
    "    yrS <- P.count 4 digit\n",
    "    let yr = maybe 0 id (readMaybe yrS :: Maybe Int)\n",
    "    P.eof\n",
    "    pure $ 1920 <= yr && yr <= 2002\n",
    "    \n",
    "validateIyr = do\n",
    "    yrS <- P.count 4 digit\n",
    "    let yr = maybe 0 id (readMaybe yrS :: Maybe Int)\n",
    "    P.eof\n",
    "    pure $ 2010 <= yr && yr <= 2020\n",
    "\n",
    "validateEyr = do\n",
    "    yrS <- P.count 4 digit\n",
    "    let yr = maybe 0 id (readMaybe yrS :: Maybe Int)\n",
    "    P.eof\n",
    "    pure $ 2020 <= yr && yr <= 2030\n",
    "\n",
    "validateHgt = do\n",
    "    hS <- P.many1 digit\n",
    "    let h = maybe 0 id (readMaybe hS :: Maybe Int)\n",
    "    unit <- P.choice $ map P.string [\"cm\", \"in\"]\n",
    "    P.eof\n",
    "    pure $ case unit of\n",
    "        \"cm\" -> 150 <= h && h <= 193\n",
    "        \"in\" -> 59 <= h && h <= 76\n",
    "\n",
    "validateHcl = do\n",
    "    P.char '#'\n",
    "    P.count 6 hexDigit\n",
    "    P.eof\n",
    "    pure True\n",
    "\n",
    "validateEcl = do\n",
    "    P.choice $ map P.string [\"amb\", \"blu\", \"brn\", \"gry\", \"grn\", \"hzl\", \"oth\"]\n",
    "    P.eof\n",
    "    pure True\n",
    "\n",
    "validatePid = do\n",
    "    P.count 9 digit\n",
    "    P.eof\n",
    "    pure True"
   ]
  },
  {
   "cell_type": "code",
   "execution_count": 11,
   "metadata": {},
   "outputs": [],
   "source": [
    "import Control.Applicative ((<|>))\n",
    "\n",
    "validatePassport p = and\n",
    "        [ fst . head $ P.readP_to_S (validateByr P.<++ failed) (byr p)\n",
    "        , fst . head $ P.readP_to_S (validateIyr P.<++ failed) (iyr p)\n",
    "        , fst . head $ P.readP_to_S (validateEyr P.<++ failed) (eyr p)\n",
    "        , fst . head $ P.readP_to_S (validateHgt P.<++ failed) (hgt p)\n",
    "        , fst . head $ P.readP_to_S (validateHcl P.<++ failed) (hcl p)\n",
    "        , fst . head $ P.readP_to_S (validateEcl P.<++ failed) (ecl p)\n",
    "        , fst . head $ P.readP_to_S (validatePid P.<++ failed) (pid p)\n",
    "        ]"
   ]
  },
  {
   "cell_type": "code",
   "execution_count": 12,
   "metadata": {},
   "outputs": [
    {
     "data": {
      "text/plain": [
       "184"
      ]
     },
     "metadata": {},
     "output_type": "display_data"
    }
   ],
   "source": [
    "length $ filter id $ map validatePassport passports"
   ]
  }
 ],
 "metadata": {
  "kernelspec": {
   "display_name": "Haskell",
   "language": "haskell",
   "name": "haskell"
  },
  "language_info": {
   "codemirror_mode": "ihaskell",
   "file_extension": ".hs",
   "mimetype": "text/x-haskell",
   "name": "haskell",
   "pygments_lexer": "Haskell",
   "version": "8.8.4"
  }
 },
 "nbformat": 4,
 "nbformat_minor": 4
}
