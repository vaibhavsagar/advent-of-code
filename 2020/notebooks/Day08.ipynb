{
 "cells": [
  {
   "cell_type": "code",
   "execution_count": 1,
   "metadata": {},
   "outputs": [],
   "source": [
    "{-# LANGUAGE OverloadedStrings #-}\n",
    "\n",
    "import AdventOfCode\n",
    "import qualified Data.Vector as V\n",
    "import qualified Data.Attoparsec.ByteString.Char8 as A\n",
    "\n",
    "input <- dayLines 8"
   ]
  },
  {
   "cell_type": "code",
   "execution_count": 2,
   "metadata": {},
   "outputs": [],
   "source": [
    "import Data.Functor (($>))\n",
    "\n",
    "data Instruction = Jmp | Acc | Nop deriving (Eq, Show)\n",
    "\n",
    "parseInstr = do\n",
    "    instr <- A.choice\n",
    "        [ \"jmp\" $> Jmp\n",
    "        , \"acc\" $> Acc\n",
    "        , \"nop\" $> Nop\n",
    "        ]\n",
    "    A.skipSpace\n",
    "    arg <- A.signed A.decimal\n",
    "    pure (instr, arg)\n",
    "\n",
    "instructions = V.fromList $ map (parsed parseInstr) input"
   ]
  },
  {
   "cell_type": "code",
   "execution_count": 3,
   "metadata": {},
   "outputs": [],
   "source": [
    "data MachineState = MachineState\n",
    "    { msPointer :: Int\n",
    "    , msAccumulator :: Int\n",
    "    , msInstructions :: V.Vector (Instruction, Int)\n",
    "    } deriving (Eq, Show)\n",
    "\n",
    "stepInstruction :: MachineState -> MachineState\n",
    "stepInstruction ms = let\n",
    "    pointer = msPointer ms\n",
    "    currInstr = msInstructions ms V.! pointer\n",
    "    ms' = case currInstr of\n",
    "        (Nop, _) -> ms { msPointer = pointer + 1 }\n",
    "        (Acc, v) -> ms\n",
    "            { msPointer = pointer + 1\n",
    "            , msAccumulator = msAccumulator ms + v\n",
    "            }\n",
    "        (Jmp, o) -> ms { msPointer = pointer + o}\n",
    "    in ms'"
   ]
  },
  {
   "cell_type": "code",
   "execution_count": 4,
   "metadata": {},
   "outputs": [],
   "source": [
    "import qualified Data.Set as S\n",
    "\n",
    "findAccumulatorBeforeRepeat :: S.Set Int -> MachineState -> Int\n",
    "findAccumulatorBeforeRepeat pointers ms = let\n",
    "    currPointer = msPointer ms\n",
    "    in if currPointer `S.member` pointers\n",
    "        then msAccumulator ms\n",
    "        else let\n",
    "            pointers' = S.insert currPointer pointers\n",
    "            ms' = stepInstruction ms\n",
    "            in findAccumulatorBeforeRepeat pointers' ms'"
   ]
  },
  {
   "cell_type": "code",
   "execution_count": 5,
   "metadata": {},
   "outputs": [
    {
     "data": {
      "text/plain": [
       "2058"
      ]
     },
     "metadata": {},
     "output_type": "display_data"
    }
   ],
   "source": [
    "findAccumulatorBeforeRepeat S.empty $ MachineState 0 0 instructions"
   ]
  },
  {
   "cell_type": "code",
   "execution_count": 6,
   "metadata": {},
   "outputs": [],
   "source": [
    "runSwappingInstructions :: S.Set Int -> Bool -> MachineState -> Either Int Int\n",
    "runSwappingInstructions pointers changed ms\n",
    "    | currPointer == V.length (msInstructions ms) = Right (msAccumulator ms)\n",
    "    | currPointer `S.member` pointers = Left (msAccumulator ms)\n",
    "    | fst currInstr `elem` [Jmp, Nop] && not changed = let\n",
    "        pointers' = S.insert currPointer pointers\n",
    "        ms' = stepInstruction ms\n",
    "        ms'' = stepInstruction (swapInstruction ms)\n",
    "        in runSwappingInstructions pointers' False ms' <> runSwappingInstructions pointers' True ms''\n",
    "    | otherwise = let\n",
    "        pointers' = S.insert currPointer pointers\n",
    "        ms' = stepInstruction ms\n",
    "        in runSwappingInstructions pointers' changed ms'\n",
    "    where\n",
    "        currPointer = msPointer ms\n",
    "        currInstr = msInstructions ms V.! currPointer\n",
    "        swapInstruction ms = let\n",
    "            (op, arg) = currInstr\n",
    "            newInstr = case op of\n",
    "                Jmp -> (Nop, arg)\n",
    "                Nop -> (Jmp, arg)\n",
    "                _ -> error \"you made a mistake somewhere\"\n",
    "            ms' = ms { msInstructions = msInstructions ms V.// [(currPointer, newInstr)]}\n",
    "            in ms'"
   ]
  },
  {
   "cell_type": "code",
   "execution_count": 7,
   "metadata": {},
   "outputs": [
    {
     "data": {
      "text/plain": [
       "Right 1000"
      ]
     },
     "metadata": {},
     "output_type": "display_data"
    }
   ],
   "source": [
    "runSwappingInstructions S.empty False $ MachineState 0 0 instructions"
   ]
  }
 ],
 "metadata": {
  "kernelspec": {
   "display_name": "Haskell",
   "language": "haskell",
   "name": "haskell"
  },
  "language_info": {
   "codemirror_mode": "ihaskell",
   "file_extension": ".hs",
   "mimetype": "text/x-haskell",
   "name": "haskell",
   "pygments_lexer": "Haskell",
   "version": "8.8.4"
  }
 },
 "nbformat": 4,
 "nbformat_minor": 4
}
