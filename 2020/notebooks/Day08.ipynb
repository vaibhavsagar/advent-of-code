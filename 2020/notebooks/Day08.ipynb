{
 "cells": [
  {
   "cell_type": "code",
   "execution_count": 2,
   "metadata": {},
   "outputs": [],
   "source": [
    "{-# LANGUAGE OverloadedStrings #-}\n",
    "\n",
    "import AdventOfCode\n",
    "import qualified Data.Vector as V\n",
    "import qualified Data.Attoparsec.ByteString.Char8 as A\n",
    "\n",
    "input <- dayLines 8"
   ]
  },
  {
   "cell_type": "code",
   "execution_count": 4,
   "metadata": {},
   "outputs": [],
   "source": [
    "import Data.Functor (($>))\n",
    "\n",
    "data Instruction = Jmp | Acc | Nop deriving (Eq, Show)\n",
    "\n",
    "parseInstr = do\n",
    "    instr <- A.choice\n",
    "        [ \"jmp\" $> Jmp\n",
    "        , \"acc\" $> Acc\n",
    "        , \"nop\" $> Nop\n",
    "        ]\n",
    "    A.skipSpace\n",
    "    arg <- A.signed A.decimal\n",
    "    pure (instr, arg)\n",
    "\n",
    "instructions = V.fromList $ map (parsed parseInstr) input"
   ]
  },
  {
   "cell_type": "code",
   "execution_count": 6,
   "metadata": {},
   "outputs": [],
   "source": [
    "data MachineState = MachineState\n",
    "    { msPointer :: Int\n",
    "    , msAccumulator :: Int\n",
    "    , msInstructions :: V.Vector (Instruction, Int)\n",
    "    } deriving (Eq, Show)\n",
    "\n",
    "stepInstruction :: MachineState -> MachineState\n",
    "stepInstruction ms = let\n",
    "    pointer = msPointer ms\n",
    "    currInstr = msInstructions ms V.! pointer\n",
    "    ms' = case currInstr of\n",
    "        (Nop, _) -> ms { msPointer = pointer + 1 }\n",
    "        (Acc, v) -> ms\n",
    "            { msPointer = pointer + 1\n",
    "            , msAccumulator = msAccumulator ms + v\n",
    "            }\n",
    "        (Jmp, o) -> ms { msPointer = pointer + o}\n",
    "    in ms'"
   ]
  },
  {
   "cell_type": "code",
   "execution_count": 13,
   "metadata": {},
   "outputs": [],
   "source": [
    "import qualified Data.Set as S\n",
    "import Debug.Trace\n",
    "\n",
    "findAccumulatorBeforeRepeat :: S.Set Int -> MachineState -> Int\n",
    "findAccumulatorBeforeRepeat pointers ms = let\n",
    "    currPointer = msPointer ms\n",
    "    in if currPointer `S.member` pointers\n",
    "        then msAccumulator ms\n",
    "        else let\n",
    "            pointers' = S.insert currPointer pointers\n",
    "            ms' = stepInstruction ms\n",
    "            in findAccumulatorBeforeRepeat pointers' ms'"
   ]
  },
  {
   "cell_type": "code",
   "execution_count": 14,
   "metadata": {},
   "outputs": [
    {
     "data": {
      "text/plain": [
       "2058"
      ]
     },
     "metadata": {},
     "output_type": "display_data"
    }
   ],
   "source": [
    "findAccumulatorBeforeRepeat S.empty $ MachineState 0 0 instructions"
   ]
  },
  {
   "cell_type": "code",
   "execution_count": null,
   "metadata": {},
   "outputs": [],
   "source": []
  }
 ],
 "metadata": {
  "kernelspec": {
   "display_name": "Haskell",
   "language": "haskell",
   "name": "haskell"
  },
  "language_info": {
   "codemirror_mode": "ihaskell",
   "file_extension": ".hs",
   "mimetype": "text/x-haskell",
   "name": "haskell",
   "pygments_lexer": "Haskell",
   "version": "8.8.4"
  }
 },
 "nbformat": 4,
 "nbformat_minor": 4
}
