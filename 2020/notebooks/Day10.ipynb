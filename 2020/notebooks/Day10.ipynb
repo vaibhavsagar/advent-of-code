{
 "cells": [
  {
   "cell_type": "code",
   "execution_count": 1,
   "metadata": {},
   "outputs": [],
   "source": [
    "import AdventOfCode"
   ]
  },
  {
   "cell_type": "code",
   "execution_count": 2,
   "metadata": {},
   "outputs": [],
   "source": [
    "import Data.List\n",
    "\n",
    "input <- map read <$> dayLinesString 10 :: IO [Int]\n",
    "\n",
    "source = 0\n",
    "sink = maximum input + 3\n",
    "sorted = source:(sort input) ++ [sink]\n",
    "diffs = zipWith (-) (tail sorted) sorted"
   ]
  },
  {
   "cell_type": "code",
   "execution_count": 3,
   "metadata": {},
   "outputs": [
    {
     "data": {
      "text/plain": [
       "2277"
      ]
     },
     "metadata": {},
     "output_type": "display_data"
    }
   ],
   "source": [
    "ones = length $ filter (==1) diffs\n",
    "threes = length $ filter (==3) diffs\n",
    "ones*threes"
   ]
  },
  {
   "cell_type": "code",
   "execution_count": 4,
   "metadata": {},
   "outputs": [],
   "source": [
    "import Data.Function.Memoize\n",
    "\n",
    "differentWays = memoize2 $ \\current remaining -> case remaining of\n",
    "    [] -> 1\n",
    "    _ -> let\n",
    "        (next,remaining') = partition (\\e -> e-current<=3) remaining\n",
    "        in if null next\n",
    "            then 0\n",
    "            else sum $ map (\\c -> differentWays\n",
    "                c\n",
    "                (dropWhile (<=c) next ++ remaining')\n",
    "                ) next"
   ]
  },
  {
   "cell_type": "code",
   "execution_count": 5,
   "metadata": {},
   "outputs": [
    {
     "data": {
      "text/plain": [
       "37024595836928"
      ]
     },
     "metadata": {},
     "output_type": "display_data"
    }
   ],
   "source": [
    "differentWays 0 (tail sorted)"
   ]
  }
 ],
 "metadata": {
  "kernelspec": {
   "display_name": "Haskell",
   "language": "haskell",
   "name": "haskell"
  },
  "language_info": {
   "codemirror_mode": "ihaskell",
   "file_extension": ".hs",
   "mimetype": "text/x-haskell",
   "name": "haskell",
   "pygments_lexer": "Haskell",
   "version": "8.8.4"
  }
 },
 "nbformat": 4,
 "nbformat_minor": 4
}
