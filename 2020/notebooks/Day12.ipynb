{
 "cells": [
  {
   "cell_type": "code",
   "execution_count": 1,
   "metadata": {},
   "outputs": [],
   "source": [
    "import AdventOfCode"
   ]
  },
  {
   "cell_type": "code",
   "execution_count": 2,
   "metadata": {},
   "outputs": [],
   "source": [
    "{-# LANGUAGE OverloadedStrings #-}\n",
    "\n",
    "import qualified Data.Attoparsec.ByteString.Char8 as A\n",
    "\n",
    "input <- dayLines 12"
   ]
  },
  {
   "cell_type": "code",
   "execution_count": 3,
   "metadata": {},
   "outputs": [],
   "source": [
    "import Data.Functor (($>))\n",
    "\n",
    "data Move = N | S | E | W | L | R | F deriving (Eq, Show)\n",
    "data Facing = North | South | East | West deriving (Eq, Show)\n",
    "type Instr = (Move, Int)\n",
    "\n",
    "parseInstr = do\n",
    "    m <- A.choice\n",
    "        [ \"N\" $> N\n",
    "        , \"S\" $> S\n",
    "        , \"E\" $> E\n",
    "        , \"W\" $> W\n",
    "        , \"L\" $> L\n",
    "        , \"R\" $> R\n",
    "        , \"F\" $> F\n",
    "        ]\n",
    "    amt <- A.decimal\n",
    "    pure (m, amt)"
   ]
  },
  {
   "cell_type": "code",
   "execution_count": 4,
   "metadata": {},
   "outputs": [],
   "source": [
    "data Ship = Ship { facing :: Facing, coords :: (Int, Int) } deriving (Eq, Show)\n",
    "\n",
    "steps = map (parsed parseInstr) input\n",
    "\n",
    "move :: Ship -> Instr -> Ship\n",
    "move (Ship f c@(x,y)) instr = case fst instr of\n",
    "    L -> Ship (moveLeft f (snd instr)) c\n",
    "    R -> Ship (moveRight f (snd instr)) c\n",
    "    F -> Ship f (moveForward f c instr)\n",
    "    _ -> Ship f (moveDirection c instr)\n",
    "    where\n",
    "        moveLeft :: Facing -> Int -> Facing\n",
    "        moveLeft face 0 = face\n",
    "        moveLeft face n = case face of\n",
    "            North -> moveLeft West (n-90)\n",
    "            West -> moveLeft South (n-90)\n",
    "            South -> moveLeft East (n-90)\n",
    "            East -> moveLeft North (n-90)\n",
    "\n",
    "        moveRight face 0 = face\n",
    "        moveRight face n = case face of\n",
    "            North -> moveRight East (n-90)\n",
    "            East -> moveRight South (n-90)\n",
    "            South -> moveRight West (n-90)\n",
    "            West -> moveRight North (n-90)\n",
    "\n",
    "        moveForward face (x,y) (F,n) = case face of\n",
    "            North -> (x,y+n)\n",
    "            West -> (x-n,y)\n",
    "            East -> (x+n,y)\n",
    "            South -> (x,y-n)\n",
    "\n",
    "        moveDirection (x,y) (d,n) = case d of\n",
    "            N -> (x,y+n)\n",
    "            W -> (x-n,y)\n",
    "            E -> (x+n,y)\n",
    "            S -> (x,y-n)"
   ]
  },
  {
   "cell_type": "code",
   "execution_count": 5,
   "metadata": {},
   "outputs": [
    {
     "data": {
      "text/plain": [
       "757"
      ]
     },
     "metadata": {},
     "output_type": "display_data"
    }
   ],
   "source": [
    "import Data.List (foldl')\n",
    "\n",
    "final = foldl' move (Ship East (0,0)) steps\n",
    "\n",
    "manhattan (x,y) = abs x + abs y\n",
    "\n",
    "manhattan $ coords final"
   ]
  },
  {
   "cell_type": "code",
   "execution_count": 6,
   "metadata": {},
   "outputs": [],
   "source": [
    "data Ship' = Ship' { waypoint :: (Int, Int), coords' :: (Int, Int) } deriving (Eq, Show)\n",
    "\n",
    "rotateWaypointLeft (wx,wy) 0 = (wx,wy)\n",
    "rotateWaypointLeft (wx,wy) n = rotateWaypointLeft (-1*wy,wx) (n-90)\n",
    "\n",
    "rotateWaypointRight (wx,wy) 0 = (wx,wy)\n",
    "rotateWaypointRight (wx,wy) n = rotateWaypointRight (wy,-1*wx) (n-90)\n",
    "\n",
    "moveWaypoint (wx,wy) (d,n) = case d of\n",
    "    N -> (wx,wy+n)\n",
    "    S -> (wx,wy-n)\n",
    "    E -> (wx+n,wy)\n",
    "    W -> (wx-n,wy)\n",
    "\n",
    "moveShip (wx,wy) (x,y) n = (x+(n*wx),y+(n*wy))\n",
    "\n",
    "move' (Ship' w@(wx,wy) c@(x,y)) instr = case fst instr of\n",
    "    L -> Ship' (rotateWaypointLeft w (snd instr)) c\n",
    "    R -> Ship' (rotateWaypointRight w (snd instr)) c\n",
    "    F -> Ship' w (moveShip w c (snd instr))\n",
    "    _ -> Ship' (moveWaypoint w instr) c"
   ]
  },
  {
   "cell_type": "code",
   "execution_count": 7,
   "metadata": {},
   "outputs": [
    {
     "data": {
      "text/plain": [
       "51249"
      ]
     },
     "metadata": {},
     "output_type": "display_data"
    }
   ],
   "source": [
    "final = foldl' move' (Ship' (10,1) (0,0)) steps\n",
    "\n",
    "manhattan $ coords' final"
   ]
  }
 ],
 "metadata": {
  "kernelspec": {
   "display_name": "Haskell",
   "language": "haskell",
   "name": "haskell"
  },
  "language_info": {
   "codemirror_mode": "ihaskell",
   "file_extension": ".hs",
   "mimetype": "text/x-haskell",
   "name": "haskell",
   "pygments_lexer": "Haskell",
   "version": "8.8.4"
  }
 },
 "nbformat": 4,
 "nbformat_minor": 4
}
