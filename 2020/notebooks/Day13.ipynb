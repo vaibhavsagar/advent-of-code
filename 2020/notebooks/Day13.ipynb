{
 "cells": [
  {
   "cell_type": "code",
   "execution_count": 1,
   "metadata": {},
   "outputs": [],
   "source": [
    "import AdventOfCode\n",
    "\n",
    "input <- dayLinesString 13"
   ]
  },
  {
   "cell_type": "code",
   "execution_count": 2,
   "metadata": {},
   "outputs": [],
   "source": [
    "import Data.List.Split\n",
    "\n",
    "earliest = read (head input) :: Int\n",
    "times = splitOn \",\" $ head $ tail input\n",
    "validTimes = map (read :: String -> Int) $ filter (/=\"x\") times"
   ]
  },
  {
   "cell_type": "code",
   "execution_count": 3,
   "metadata": {},
   "outputs": [],
   "source": [
    "import qualified Data.Map.Strict as M\n",
    "\n",
    "departureMap = M.fromList $ map (\\i -> (i, head $ dropWhile (<=earliest) $ map (*i) [0..])) validTimes"
   ]
  },
  {
   "cell_type": "code",
   "execution_count": 4,
   "metadata": {},
   "outputs": [
    {
     "data": {
      "text/plain": [
       "4782"
      ]
     },
     "metadata": {},
     "output_type": "display_data"
    }
   ],
   "source": [
    "import Data.List\n",
    "\n",
    "earliestTime = head $ sortOn snd $ M.toList departureMap\n",
    "fst earliestTime * (snd earliestTime - earliest)"
   ]
  },
  {
   "cell_type": "code",
   "execution_count": 5,
   "metadata": {},
   "outputs": [],
   "source": [
    "constraints = map (\\(x,y) -> (x, read y :: Int)) $ filter (\\(x,y) -> y /=\"x\") $ zip [0..] times"
   ]
  },
  {
   "cell_type": "code",
   "execution_count": 6,
   "metadata": {},
   "outputs": [
    {
     "data": {
      "text/plain": [
       "True"
      ]
     },
     "metadata": {},
     "output_type": "display_data"
    }
   ],
   "source": [
    "-- coprime check\n",
    "all (==1) $ flip concatMap (map snd constraints) $ \\v ->\n",
    "    flip map (map snd constraints \\\\ [v]) $ \\w ->\n",
    "        gcd v w"
   ]
  },
  {
   "cell_type": "code",
   "execution_count": 7,
   "metadata": {},
   "outputs": [
    {
     "data": {
      "text/plain": [
       "Just 1118684865113056"
      ]
     },
     "metadata": {},
     "output_type": "display_data"
    }
   ],
   "source": [
    "import Data.Ord (Down(..))\n",
    "import Math.NumberTheory.Moduli.Chinese\n",
    "import Data.Bifunctor (bimap)\n",
    "\n",
    "decreasing = sortOn (Down . snd) constraints\n",
    "rewritten = map (\\(residue, modulus) -> (modulus - residue `mod` modulus, modulus)) decreasing\n",
    "chineseRemainder $ map (bimap fromIntegral fromIntegral) rewritten"
   ]
  }
 ],
 "metadata": {
  "kernelspec": {
   "display_name": "Haskell",
   "language": "haskell",
   "name": "haskell"
  },
  "language_info": {
   "codemirror_mode": "ihaskell",
   "file_extension": ".hs",
   "mimetype": "text/x-haskell",
   "name": "haskell",
   "pygments_lexer": "Haskell",
   "version": "8.8.4"
  }
 },
 "nbformat": 4,
 "nbformat_minor": 4
}
