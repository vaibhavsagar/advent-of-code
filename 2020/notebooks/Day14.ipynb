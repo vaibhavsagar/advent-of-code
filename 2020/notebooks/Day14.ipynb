{
 "cells": [
  {
   "cell_type": "code",
   "execution_count": 1,
   "metadata": {},
   "outputs": [],
   "source": [
    "import AdventOfCode (dayLines, parsed)\n",
    "import qualified Data.Attoparsec.ByteString.Char8 as A\n",
    "import Data.Bits\n",
    "\n",
    "input <- dayLines 14"
   ]
  },
  {
   "cell_type": "code",
   "execution_count": 2,
   "metadata": {},
   "outputs": [],
   "source": [
    "import Numeric\n",
    "import Data.Char\n",
    "showBinary n = showIntAtBase 2 intToDigit n \"\"\n",
    "readBinary s = fst . head $ readInt 2 isDigit digitToInt s\n",
    "pad s = replicate (36 - length s) '0' <> s"
   ]
  },
  {
   "cell_type": "code",
   "execution_count": 3,
   "metadata": {},
   "outputs": [],
   "source": [
    "masked :: Int -> String -> Int\n",
    "masked int mask = let\n",
    "    bin = pad $ showBinary int\n",
    "    apply = zipWith (\\x y -> if y == 'X' then x else y) bin mask\n",
    "    in readBinary apply"
   ]
  },
  {
   "cell_type": "code",
   "execution_count": 4,
   "metadata": {},
   "outputs": [],
   "source": [
    "{-# LANGUAGE OverloadedStrings #-}\n",
    "\n",
    "import Data.ByteString.UTF8 (toString)\n",
    "\n",
    "data Instr = Mem Int Int | Mask String deriving (Eq, Show)\n",
    "\n",
    "\n",
    "parseMask = do\n",
    "    \"mask = \" *> (Mask . toString <$> A.take 36)\n",
    "\n",
    "parseMem = do\n",
    "    A.string \"mem\"\n",
    "    loc <- \"[\" *> A.decimal <* \"]\"\n",
    "    A.string \" = \"\n",
    "    Mem loc <$> A.decimal\n",
    "\n",
    "parseInstr = A.choice [parseMask, parseMem]\n",
    "\n",
    "instructions = map (parsed parseInstr) input"
   ]
  },
  {
   "cell_type": "code",
   "execution_count": 5,
   "metadata": {},
   "outputs": [],
   "source": [
    "import qualified Data.Map.Strict as M\n",
    "\n",
    "data MachineState = MachineState { currentMask :: String, currentMemory :: M.Map Int Int } deriving (Eq, Show)\n",
    "\n",
    "\n",
    "executeInstruction1 :: MachineState -> Instr -> MachineState\n",
    "executeInstruction1 ms (Mask mask) = ms { currentMask = mask }\n",
    "executeInstruction1 (MachineState mask memory) (Mem loc val) = let\n",
    "    memory' = M.insert loc (masked val mask) memory\n",
    "    in MachineState mask memory'"
   ]
  },
  {
   "cell_type": "code",
   "execution_count": 6,
   "metadata": {},
   "outputs": [],
   "source": [
    "import Data.List (foldl')\n",
    "\n",
    "final1 = foldl' executeInstruction1 (MachineState \"\" M.empty) instructions"
   ]
  },
  {
   "cell_type": "code",
   "execution_count": 7,
   "metadata": {},
   "outputs": [
    {
     "data": {
      "text/plain": [
       "10452688630537"
      ]
     },
     "metadata": {},
     "output_type": "display_data"
    }
   ],
   "source": [
    "sum $ M.elems $ currentMemory final1"
   ]
  },
  {
   "cell_type": "code",
   "execution_count": 8,
   "metadata": {},
   "outputs": [],
   "source": [
    "anchorFloating acc [] = [acc]\n",
    "anchorFloating acc ('X':xs) = anchorFloating (acc <> \"1\") xs <> anchorFloating (acc <> \"0\") xs\n",
    "anchorFloating acc (x:xs) = anchorFloating (acc <> [x]) xs"
   ]
  },
  {
   "cell_type": "code",
   "execution_count": 9,
   "metadata": {},
   "outputs": [],
   "source": [
    "interpretMemoryMask int mask = let\n",
    "    bin = pad $ showBinary int\n",
    "    in zipWith (\\x y -> case y of\n",
    "        'X' -> 'X'\n",
    "        '0' -> x\n",
    "        '1' -> '1') bin mask"
   ]
  },
  {
   "cell_type": "code",
   "execution_count": 10,
   "metadata": {},
   "outputs": [],
   "source": [
    "executeInstruction2 :: MachineState -> Instr -> MachineState\n",
    "executeInstruction2 ms (Mask mask) = ms { currentMask = mask }\n",
    "executeInstruction2 (MachineState mask memory) (Mem loc val) = let\n",
    "    floatingMemoryLoc = interpretMemoryMask loc mask\n",
    "    locations = map readBinary $ anchorFloating \"\" floatingMemoryLoc\n",
    "    memory' = foldl' (\\mem location -> M.insert location val mem) memory locations\n",
    "    in MachineState mask memory'"
   ]
  },
  {
   "cell_type": "code",
   "execution_count": 11,
   "metadata": {},
   "outputs": [
    {
     "data": {
      "text/plain": [
       "2881082759597"
      ]
     },
     "metadata": {},
     "output_type": "display_data"
    }
   ],
   "source": [
    "final2 = foldl' executeInstruction2 (MachineState \"\" M.empty) instructions\n",
    "sum $ M.elems $ currentMemory final2"
   ]
  }
 ],
 "metadata": {
  "kernelspec": {
   "display_name": "Haskell",
   "language": "haskell",
   "name": "haskell"
  },
  "language_info": {
   "codemirror_mode": "ihaskell",
   "file_extension": ".hs",
   "mimetype": "text/x-haskell",
   "name": "haskell",
   "pygments_lexer": "Haskell",
   "version": "8.8.4"
  }
 },
 "nbformat": 4,
 "nbformat_minor": 4
}
