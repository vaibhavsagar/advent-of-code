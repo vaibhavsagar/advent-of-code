{
 "cells": [
  {
   "cell_type": "code",
   "execution_count": 1,
   "metadata": {},
   "outputs": [],
   "source": [
    "import AdventOfCode\n",
    "import qualified Data.Vector.Unboxed as V\n",
    "import qualified Data.Vector.Unboxed.Mutable as MV\n",
    "import Control.Monad.ST\n",
    "import Data.List.Split\n",
    "\n",
    "input <- map (read :: String -> Int) . splitOn \",\" <$> dayString 15"
   ]
  },
  {
   "cell_type": "code",
   "execution_count": 2,
   "metadata": {},
   "outputs": [],
   "source": [
    "createSeen :: Int -> [Int] -> V.Vector Int\n",
    "createSeen n prevs = V.replicate n (-1) V.// zip (init prevs) [0..]"
   ]
  },
  {
   "cell_type": "code",
   "execution_count": 3,
   "metadata": {},
   "outputs": [],
   "source": [
    "playTurn (turns, mostRecent) us = if turns == MV.length us\n",
    "    then pure mostRecent\n",
    "    else do\n",
    "        let currIndex = turns - 1\n",
    "        found <- MV.read us mostRecent\n",
    "        MV.write us mostRecent currIndex\n",
    "        case found of\n",
    "            -1 -> \n",
    "                playTurn (turns+1, 0) us \n",
    "            lastIndex ->\n",
    "                playTurn (turns+1, currIndex-lastIndex) us"
   ]
  },
  {
   "cell_type": "code",
   "execution_count": 4,
   "metadata": {},
   "outputs": [
    {
     "data": {
      "text/plain": [
       "866"
      ]
     },
     "metadata": {},
     "output_type": "display_data"
    }
   ],
   "source": [
    "final1 = runST $ do\n",
    "    thawed <- V.thaw $ createSeen 2020 input\n",
    "    playTurn (length input, last input) thawed\n",
    "final1"
   ]
  },
  {
   "cell_type": "code",
   "execution_count": 5,
   "metadata": {},
   "outputs": [
    {
     "data": {
      "text/plain": [
       "1437692"
      ]
     },
     "metadata": {},
     "output_type": "display_data"
    }
   ],
   "source": [
    "final2 = runST $ do\n",
    "    thawed <- V.thaw $ createSeen 30000000 input\n",
    "    playTurn (length input, last input) thawed\n",
    "final2"
   ]
  }
 ],
 "metadata": {
  "kernelspec": {
   "display_name": "Haskell",
   "language": "haskell",
   "name": "haskell"
  },
  "language_info": {
   "codemirror_mode": "ihaskell",
   "file_extension": ".hs",
   "mimetype": "text/x-haskell",
   "name": "haskell",
   "pygments_lexer": "Haskell",
   "version": "8.8.4"
  }
 },
 "nbformat": 4,
 "nbformat_minor": 4
}
