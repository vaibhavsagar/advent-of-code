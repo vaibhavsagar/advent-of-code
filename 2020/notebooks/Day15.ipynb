{
 "cells": [
  {
   "cell_type": "code",
   "execution_count": 1,
   "metadata": {},
   "outputs": [],
   "source": [
    "{-# LANGUAGE BangPatterns #-}\n",
    "\n",
    "import AdventOfCode\n",
    "import qualified Data.Sequence as Seq\n",
    "import qualified Data.Map.Strict as Map\n",
    "import Data.List.Split\n",
    "\n",
    "input <- map (read :: String -> Int) . splitOn \",\" <$> dayString 15"
   ]
  },
  {
   "cell_type": "code",
   "execution_count": 2,
   "metadata": {},
   "outputs": [],
   "source": [
    "data GameState = GameState\n",
    "    { numbers :: Seq.Seq Int\n",
    "    , uniques :: Map.Map Int Int\n",
    "    } deriving (Eq, Show)"
   ]
  },
  {
   "cell_type": "code",
   "execution_count": 3,
   "metadata": {},
   "outputs": [],
   "source": [
    "playTurn gameState 0 = gameState\n",
    "playTurn (GameState !ns !us) n = let\n",
    "    (previous Seq.:|> prior) = ns\n",
    "    in if prior `Map.member` us\n",
    "        then let\n",
    "            currIndex = Seq.length ns - 1\n",
    "            Just lastIndex = Map.lookup prior us\n",
    "            us' = Map.insert prior currIndex us\n",
    "            in playTurn (GameState (ns Seq.|> (currIndex-lastIndex)) us') (n-1)\n",
    "        else let\n",
    "            us' = Map.insert prior (Seq.length ns - 1) us\n",
    "            in playTurn (GameState (ns Seq.|> 0) us') (n-1) "
   ]
  },
  {
   "cell_type": "code",
   "execution_count": 4,
   "metadata": {},
   "outputs": [
    {
     "data": {
      "text/plain": [
       "436"
      ]
     },
     "metadata": {},
     "output_type": "display_data"
    }
   ],
   "source": [
    "ex = playTurn (GameState (Seq.fromList [0,3,6]) (Map.fromList [(0,0), (3,1)])) (2020-3)\n",
    "Seq.index (numbers ex) 2019"
   ]
  },
  {
   "cell_type": "code",
   "execution_count": 5,
   "metadata": {},
   "outputs": [],
   "source": [
    "gs = GameState (Seq.fromList input) (Map.fromList $ zip (init input) [0..]) "
   ]
  },
  {
   "cell_type": "code",
   "execution_count": 6,
   "metadata": {},
   "outputs": [
    {
     "data": {
      "text/plain": [
       "866"
      ]
     },
     "metadata": {},
     "output_type": "display_data"
    }
   ],
   "source": [
    "final1 = playTurn gs (2020 - length (numbers gs))\n",
    "Seq.index (numbers final1) 2019"
   ]
  },
  {
   "cell_type": "code",
   "execution_count": 7,
   "metadata": {},
   "outputs": [
    {
     "data": {
      "text/plain": [
       "1437692"
      ]
     },
     "metadata": {},
     "output_type": "display_data"
    }
   ],
   "source": [
    "steps = 30000000\n",
    "\n",
    "final2 = playTurn gs (steps - length (numbers gs))\n",
    "Seq.index (numbers final2) (steps-1)"
   ]
  }
 ],
 "metadata": {
  "kernelspec": {
   "display_name": "Haskell",
   "language": "haskell",
   "name": "haskell"
  },
  "language_info": {
   "codemirror_mode": "ihaskell",
   "file_extension": ".hs",
   "mimetype": "text/x-haskell",
   "name": "haskell",
   "pygments_lexer": "Haskell",
   "version": "8.8.4"
  }
 },
 "nbformat": 4,
 "nbformat_minor": 4
}
