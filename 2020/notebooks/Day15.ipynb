{
 "cells": [
  {
   "cell_type": "code",
   "execution_count": 1,
   "metadata": {},
   "outputs": [],
   "source": [
    "{-# LANGUAGE BangPatterns #-}\n",
    "\n",
    "import AdventOfCode\n",
    "import qualified Data.IntMap.Strict as IntMap\n",
    "import Data.List.Split\n",
    "\n",
    "input <- map (read :: String -> Int) . splitOn \",\" <$> dayString 15"
   ]
  },
  {
   "cell_type": "code",
   "execution_count": 2,
   "metadata": {},
   "outputs": [],
   "source": [
    "data GameState = GameState\n",
    "    { history :: (Int, Int)\n",
    "    , uniques :: IntMap.IntMap Int\n",
    "    } deriving (Eq, Show)"
   ]
  },
  {
   "cell_type": "code",
   "execution_count": 3,
   "metadata": {},
   "outputs": [],
   "source": [
    "playTurn gameState 0 = gameState\n",
    "playTurn (GameState (!turns, !mostRecent) !us) !n = let\n",
    "    currIndex = turns - 1\n",
    "    us' = IntMap.insert mostRecent currIndex us\n",
    "    in case IntMap.lookup mostRecent us of\n",
    "        Nothing -> playTurn (GameState (turns+1, 0) us') (n-1) \n",
    "        Just lastIndex -> playTurn (GameState (turns+1, currIndex-lastIndex) us') (n-1)"
   ]
  },
  {
   "cell_type": "code",
   "execution_count": 4,
   "metadata": {},
   "outputs": [],
   "source": [
    "gs = GameState (length input, last input) (IntMap.fromList $ zip (init input) [0..]) "
   ]
  },
  {
   "cell_type": "code",
   "execution_count": 5,
   "metadata": {},
   "outputs": [
    {
     "data": {
      "text/plain": [
       "866"
      ]
     },
     "metadata": {},
     "output_type": "display_data"
    }
   ],
   "source": [
    "final1 = playTurn gs (2020 - fst (history gs))\n",
    "snd $ history final1"
   ]
  },
  {
   "cell_type": "code",
   "execution_count": 6,
   "metadata": {},
   "outputs": [
    {
     "data": {
      "text/plain": [
       "1437692"
      ]
     },
     "metadata": {},
     "output_type": "display_data"
    }
   ],
   "source": [
    "steps = 30000000\n",
    "\n",
    "final2 = playTurn gs (steps - fst (history gs))\n",
    "snd $ history final2"
   ]
  }
 ],
 "metadata": {
  "kernelspec": {
   "display_name": "Haskell",
   "language": "haskell",
   "name": "haskell"
  },
  "language_info": {
   "codemirror_mode": "ihaskell",
   "file_extension": ".hs",
   "mimetype": "text/x-haskell",
   "name": "haskell",
   "pygments_lexer": "Haskell",
   "version": "8.8.4"
  }
 },
 "nbformat": 4,
 "nbformat_minor": 4
}
