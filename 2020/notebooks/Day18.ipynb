{
 "cells": [
  {
   "cell_type": "code",
   "execution_count": 1,
   "metadata": {},
   "outputs": [],
   "source": [
    "{-# LANGUAGE OverloadedStrings #-}\n",
    "\n",
    "import AdventOfCode\n",
    "import Data.Attoparsec.ByteString.Char8 as A\n",
    "\n",
    "input <- dayLines 18"
   ]
  },
  {
   "cell_type": "code",
   "execution_count": 2,
   "metadata": {},
   "outputs": [],
   "source": [
    "type Expr = [Value]\n",
    "data Value = Number Int | Op Char | Paren Expr deriving (Eq, Show)"
   ]
  },
  {
   "cell_type": "code",
   "execution_count": 3,
   "metadata": {},
   "outputs": [],
   "source": [
    "import Control.Applicative ((<|>))\n",
    "import qualified Data.ByteString as BS\n",
    "\n",
    "parseExpr :: A.Parser Expr\n",
    "parseExpr = A.many' (parseValue <* A.skipSpace)\n",
    "    where\n",
    "        parseValue = A.choice\n",
    "            [ Number <$> A.decimal\n",
    "            , Op <$> (A.char '+' <|> A.char '*')\n",
    "            , \"(\" *>  (Paren <$> parseExpr) <* \")\"]"
   ]
  },
  {
   "cell_type": "code",
   "execution_count": 4,
   "metadata": {},
   "outputs": [],
   "source": [
    "expressions = map (parsed parseExpr) input"
   ]
  },
  {
   "cell_type": "code",
   "execution_count": 5,
   "metadata": {},
   "outputs": [],
   "source": [
    "evalValue1 :: Value -> Int\n",
    "evalValue1 (Number n) = n\n",
    "evalValue1 (Paren p) = evalExpr1 p\n",
    "\n",
    "evalExpr1 :: Expr -> Int\n",
    "evalExpr1 [value] = evalValue1 value\n",
    "evalExpr1 (l:o:r:rest) = let\n",
    "    lE = evalValue1 l\n",
    "    rE = evalValue1 r\n",
    "    in case o of\n",
    "        Op '+' -> evalExpr1 (Number (lE+rE):rest)\n",
    "        Op '*' -> evalExpr1 (Number (lE*rE):rest)"
   ]
  },
  {
   "cell_type": "code",
   "execution_count": 6,
   "metadata": {},
   "outputs": [
    {
     "data": {
      "text/plain": [
       "4696493914530"
      ]
     },
     "metadata": {},
     "output_type": "display_data"
    }
   ],
   "source": [
    "sum $ map evalExpr1 expressions"
   ]
  },
  {
   "cell_type": "code",
   "execution_count": 7,
   "metadata": {},
   "outputs": [],
   "source": [
    "evalValue2 :: Value -> Int\n",
    "evalValue2 (Number n) = n\n",
    "evalValue2 (Paren p) = evalExpr2 p\n",
    "\n",
    "performAdditions :: Expr -> Expr\n",
    "performAdditions [value] = [value]\n",
    "performAdditions (l:o:r:rest) = let\n",
    "    lE = evalValue2 l\n",
    "    rE = evalValue2 r\n",
    "    in case o of\n",
    "        Op '+' -> performAdditions (Number (lE+rE):rest)\n",
    "        Op '*' -> l:o:performAdditions (r:rest)\n",
    "\n",
    "performMultiplications :: Expr -> Int\n",
    "performMultiplications [value] = evalValue2 value\n",
    "performMultiplications (l:o:r:rest) = let\n",
    "    lE = evalValue2 l\n",
    "    rE = evalValue2 r\n",
    "    in case o of\n",
    "        Op '*' -> performMultiplications (Number (lE*rE):rest)\n",
    "\n",
    "evalExpr2 :: Expr -> Int\n",
    "evalExpr2 = performMultiplications . performAdditions"
   ]
  },
  {
   "cell_type": "code",
   "execution_count": 8,
   "metadata": {},
   "outputs": [
    {
     "data": {
      "text/plain": [
       "362880372308125"
      ]
     },
     "metadata": {},
     "output_type": "display_data"
    }
   ],
   "source": [
    "sum $ map evalExpr2 expressions"
   ]
  }
 ],
 "metadata": {
  "kernelspec": {
   "display_name": "Haskell",
   "language": "haskell",
   "name": "haskell"
  },
  "language_info": {
   "codemirror_mode": "ihaskell",
   "file_extension": ".hs",
   "mimetype": "text/x-haskell",
   "name": "haskell",
   "pygments_lexer": "Haskell",
   "version": "8.8.4"
  }
 },
 "nbformat": 4,
 "nbformat_minor": 4
}
